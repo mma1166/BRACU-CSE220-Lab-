{
  "cells": [
    {
      "cell_type": "code",
      "execution_count": 1,
      "metadata": {
        "id": "D6vC520OPeTa",
        "colab": {
          "base_uri": "https://localhost:8080/"
        },
        "outputId": "051038e4-2b41-491d-c8dd-a6c87afdac6b"
      },
      "outputs": [
        {
          "output_type": "stream",
          "name": "stdout",
          "text": [
            "H D B E A I F J C G k "
          ]
        }
      ],
      "source": [
        "class BTNode:\n",
        "  def __init__(self, elem):\n",
        "    self.elem = elem\n",
        "    self.right = None\n",
        "    self.left = None\n",
        "\n",
        "def inorder(root):\n",
        "  if root == None:\n",
        "    return\n",
        "\n",
        "  inorder(root.left)\n",
        "  print(root.elem, end = ' ')\n",
        "  inorder(root.right)\n",
        "\n",
        "def tree_construction(arr, i = 1):\n",
        "  if i>=len(arr) or arr[i] == None:\n",
        "    return None\n",
        "  p = BTNode(arr[i])\n",
        "  p.left = tree_construction(arr, 2*i)\n",
        "  p.right = tree_construction(arr, 2*i+1)\n",
        "  return p\n",
        "\n",
        "\n",
        "root2 = tree_construction([None, 'A', 'B', 'C', 'D', 'E', 'F', 'G', 'H', None, None, None, 'I', 'J', None, 'k'])\n",
        "inorder(root2)"
      ]
    },
    {
      "cell_type": "code",
      "execution_count": 2,
      "metadata": {
        "id": "UDTKlm4-PfNM"
      },
      "outputs": [],
      "source": [
        "def inorder(root):\n",
        "  if root == None:\n",
        "    return\n",
        "\n",
        "  inorder(root.left)\n",
        "  print(root.elem, end = ' ')\n",
        "  inorder(root.right)\n",
        "\n"
      ]
    },
    {
      "cell_type": "code",
      "execution_count": 3,
      "metadata": {
        "colab": {
          "base_uri": "https://localhost:8080/"
        },
        "id": "Rtc22SPzPgzM",
        "outputId": "439f48b4-b1af-4713-fb91-0a5942b1abb1"
      },
      "outputs": [
        {
          "output_type": "stream",
          "name": "stdout",
          "text": [
            "H D B E A I F J C G k "
          ]
        }
      ],
      "source": [
        "def tree_construction(arr, i = 1):\n",
        "  if i>=len(arr) or arr[i] == None:\n",
        "    return None\n",
        "  p = BTNode(arr[i])\n",
        "  p.left = tree_construction(arr, 2*i)\n",
        "  p.right = tree_construction(arr, 2*i+1)\n",
        "  return p\n",
        "\n",
        "\n",
        "root2 = tree_construction([None, 'A', 'B', 'C', 'D', 'E', 'F', 'G', 'H', None, None, None, 'I', 'J', None, 'k'])\n",
        "inorder(root2)"
      ]
    },
    {
      "cell_type": "markdown",
      "metadata": {
        "id": "S2nNCJNhPqGq"
      },
      "source": [
        "Task 1"
      ]
    },
    {
      "cell_type": "code",
      "execution_count": null,
      "metadata": {
        "id": "zbBHU3FoPieb",
        "colab": {
          "base_uri": "https://localhost:8080/"
        },
        "outputId": "4588b034-8871-416c-904e-d4c7ab165a4e"
      },
      "outputs": [
        {
          "output_type": "stream",
          "name": "stdout",
          "text": [
            "Given Tree Inorder Traversal:  40 20 60 10 30 \n",
            "Mirrored Tree Inorder Traversal:  30 10 60 20 40 "
          ]
        }
      ],
      "source": [
        "def convert_mirror(root):\n",
        "  #To Do\n",
        "  if root!=None:\n",
        "    temp=root.left\n",
        "    root.left=root.right\n",
        "    root.right=temp\n",
        "    convert_mirror(root.left)\n",
        "    convert_mirror(root.right)\n",
        "  return root\n",
        "\n",
        "\n",
        "\n",
        "#DRIVER CODE\n",
        "root = BTNode(10)\n",
        "n1 = BTNode(20)\n",
        "n2 = BTNode(30)\n",
        "n3 = BTNode(40)\n",
        "n4 = BTNode(60)\n",
        "\n",
        "root.left = n1\n",
        "root.right = n2\n",
        "\n",
        "n1.left = n3\n",
        "n1.right = n4\n",
        "\n",
        "print('Given Tree Inorder Traversal: ', end = ' ')\n",
        "inorder(root) #Given Tree Inorder Traversal:  40 20 60 10 30\n",
        "print()\n",
        "\n",
        "root2 = convert_mirror(root)\n",
        "print('Mirrored Tree Inorder Traversal: ', end = ' ')\n",
        "inorder(root2) #Mirrored Tree Inorder Traversal:  30 10 60 20 40"
      ]
    },
    {
      "cell_type": "markdown",
      "metadata": {
        "id": "c-TBf3m0PrtK"
      },
      "source": [
        "Task 2"
      ]
    },
    {
      "cell_type": "code",
      "execution_count": null,
      "metadata": {
        "id": "lsuxinlBPmji",
        "colab": {
          "base_uri": "https://localhost:8080/"
        },
        "outputId": "2007c87e-f515-4259-a003-ce6feff46046"
      },
      "outputs": [
        {
          "output_type": "stream",
          "name": "stdout",
          "text": [
            "Given Tree Inorder Traversal:  3 9 -5 4 2 7 \n",
            "Level Wise Smallest Value:  {0: 4, 1: 2, 2: -5}\n"
          ]
        }
      ],
      "source": [
        "def smallest_level(root, level=0, dictionary={}):\n",
        "  #To Do\n",
        "  if root!= None:\n",
        "    if level not in dictionary:\n",
        "      dictionary[level]=root.elem\n",
        "    else:\n",
        "      if dictionary[level]>root.elem:\n",
        "        dictionary[level]=root.elem\n",
        "    left_side = smallest_level(root.left, level+1, dictionary)\n",
        "    right_side = smallest_level(root.right, level+1, dictionary)\n",
        "  return dictionary\n",
        "\n",
        "\n",
        "#DRIVER CODE\n",
        "root = tree_construction([None, 4,9,2,3,-5,None,7])\n",
        "print('Given Tree Inorder Traversal: ', end = ' ')\n",
        "inorder(root) #Given Tree Inorder Traversal:  3 9 5 4 2 7\n",
        "print()\n",
        "print('Level Wise Smallest Value: ', end = ' ')\n",
        "print(smallest_level(root)) #Level Wise Smallest Value:  {0: 4, 1: 2, 2: -5}"
      ]
    },
    {
      "cell_type": "markdown",
      "metadata": {
        "id": "7r3lH3aWPz2d"
      },
      "source": [
        "Task 3"
      ]
    },
    {
      "cell_type": "code",
      "source": [],
      "metadata": {
        "id": "j4fXbl5ZinZx"
      },
      "execution_count": null,
      "outputs": []
    },
    {
      "cell_type": "code",
      "execution_count": null,
      "metadata": {
        "id": "zFwP64v4Pu6d",
        "colab": {
          "base_uri": "https://localhost:8080/"
        },
        "outputId": "94d6b6ff-1812-4c7e-f699-3032c8a3827b"
      },
      "outputs": [
        {
          "output_type": "stream",
          "name": "stdout",
          "text": [
            "Given Tree Inorder Traversal:  4 8 10 12 14 20 22 \n",
            "Inorder predecessor of node 20: 14\n"
          ]
        }
      ],
      "source": [
        "def rightMost(root):\n",
        "  if root.right==None:\n",
        "    return root\n",
        "  elif root.right!=None:\n",
        "    return rightMost(root.right)\n",
        "\n",
        "def inorder_predecessor(root, x):\n",
        "  #To Do\n",
        "  predecessor=None\n",
        "  if x.left!=None:\n",
        "    predecessor= rightMost(x.left)\n",
        "  elif x.left==None:\n",
        "    current=root\n",
        "    while current!=None:\n",
        "      if current.elem>x:\n",
        "        current=current.left\n",
        "      elif current.elem<x:\n",
        "        predecessor=current\n",
        "        current=current.right\n",
        "      else:\n",
        "        break\n",
        "  return predecessor\n",
        "\n",
        "\n",
        "#DRIVER CODE\n",
        "root = BTNode(20)\n",
        "n1 = BTNode(8)\n",
        "n2 = BTNode(22)\n",
        "n3 = BTNode(4)\n",
        "n4 = BTNode(12)\n",
        "n5 = BTNode(10)\n",
        "n6 = BTNode(14)\n",
        "\n",
        "root.left = n1\n",
        "root.right = n2\n",
        "\n",
        "n1.left = n3\n",
        "n1.right = n4\n",
        "\n",
        "n4.left = n5\n",
        "n4.right = n6\n",
        "\n",
        "print('Given Tree Inorder Traversal: ', end = ' ')\n",
        "inorder(root) #Given Tree Inorder Traversal:  4 8 10 12 14 20 22\n",
        "print()\n",
        "\n",
        "x = root\n",
        "print(f'Inorder predecessor of node {x.elem}: {inorder_predecessor(root, x).elem}') #Inorder predecessor of node 20: 14"
      ]
    },
    {
      "cell_type": "markdown",
      "metadata": {
        "id": "t3IGW4OaP8Vy"
      },
      "source": [
        "Task 4"
      ]
    },
    {
      "cell_type": "code",
      "execution_count": null,
      "metadata": {
        "id": "d1A-tR7hP2fI",
        "colab": {
          "base_uri": "https://localhost:8080/"
        },
        "outputId": "aef2a601-68ef-4a42-cedc-31d2e7fbc883"
      },
      "outputs": [
        {
          "output_type": "stream",
          "name": "stdout",
          "text": [
            "Given Tree Inorder Traversal:  6 8 9 10 12 15 18 20 22 25 30 \n",
            "10\n",
            "15\n",
            "20\n",
            "25\n",
            "10\n"
          ]
        }
      ],
      "source": [
        "def LCA(root, x, y):\n",
        "  if root!=None:\n",
        "    if root.elem<x and root.elem<y:\n",
        "      return LCA(root.right, x, y)\n",
        "    elif root.elem>x and root.elem>y:\n",
        "      return LCA(root.left, x, y)\n",
        "    elif (root.elem>x and root.elem<y) or (root.elem<x and root.elem>y):\n",
        "      return root.elem\n",
        "    elif root.elem==y or root.elem==x:\n",
        "      return root.elem\n",
        "\n",
        "\n",
        "#DRIVER CODE\n",
        "root=BTNode(15)\n",
        "n1=BTNode(10)\n",
        "n2=BTNode(25)\n",
        "n3=BTNode(8)\n",
        "n4=BTNode(12)\n",
        "n5=BTNode(20)\n",
        "n6=BTNode(30)\n",
        "n7=BTNode(6)\n",
        "n8=BTNode(9)\n",
        "n9=BTNode(18)\n",
        "n10=BTNode(22)\n",
        "root.left=n1\n",
        "root.right=n2\n",
        "n1.left=n3\n",
        "n1.right=n4\n",
        "\n",
        "n2.left=n5\n",
        "n2.right=n6\n",
        "\n",
        "n3.left=n7\n",
        "n3.right=n8\n",
        "\n",
        "n5.left=n9\n",
        "n5.right=n10\n",
        "\n",
        "print('Given Tree Inorder Traversal: ', end = ' ')\n",
        "inorder(root)\n",
        "print()\n",
        "print(LCA(root, 6, 10))\n",
        "print(LCA(root, 20, 6))\n",
        "print(LCA(root, 18, 22))\n",
        "print(LCA(root, 20, 25))\n",
        "print(LCA(root, 10, 12))\n",
        "#Write by yourself from the given tree\n",
        "#check all the sample inputs given"
      ]
    },
    {
      "cell_type": "markdown",
      "source": [
        "Task 5"
      ],
      "metadata": {
        "id": "T3Pimbw_PLHY"
      }
    },
    {
      "cell_type": "code",
      "source": [],
      "metadata": {
        "id": "wa-4S1iLi0Zr"
      },
      "execution_count": null,
      "outputs": []
    },
    {
      "cell_type": "code",
      "execution_count": 4,
      "metadata": {
        "id": "m4E9_E8PThk6"
      },
      "outputs": [],
      "source": [
        "def total_sum(dictionary, level=0):\n",
        "  if level in dictionary:\n",
        "    return dictionary[level]+ total_sum(dictionary, level+1)\n",
        "  else:\n",
        "    return 0\n",
        "\n",
        "\n",
        "def sumTree(root, level=0, dictionary={}):\n",
        "  if root != None:\n",
        "    if level==0:\n",
        "      dictionary[level]=root.elem\n",
        "    elif level not in dictionary:\n",
        "      dictionary[level]=root.elem%level\n",
        "    else:\n",
        "      dictionary[level]+=root.elem%level\n",
        "    left_sum=sumTree(root.left, level+1, dictionary)\n",
        "    right_sum=sumTree(root.right, level+1, dictionary)\n",
        "  return total_sum(dictionary)\n",
        "\n",
        "\n",
        "  # To DO\n",
        "  #you can declare as many helper function with extra parameters as you need .\n",
        "  #You can not modify the parameters of sumTree or modify any part of the given code.\n"
      ]
    },
    {
      "cell_type": "code",
      "source": [
        "#Driver Code\n",
        "#Input 1\n",
        "root1 = BTNode(9)\n",
        "node2 = BTNode(4)\n",
        "node3 = BTNode(5)\n",
        "node4 = BTNode(18)\n",
        "node5 = BTNode(14)\n",
        "node6 = BTNode(3)\n",
        "node7 = BTNode(54)\n",
        "node8 = BTNode(12)\n",
        "node9 = BTNode(8)\n",
        "node10 = BTNode(91)\n",
        "node11 = BTNode(56)\n",
        "\n",
        "root1.left = node2\n",
        "root1.right = node3\n",
        "\n",
        "node2.left = node4\n",
        "\n",
        "node3.left = node5\n",
        "node3.right = node6\n",
        "\n",
        "node4.left = node7\n",
        "node4.right = node8\n",
        "\n",
        "node5.left = node9\n",
        "\n",
        "node8.left = node10\n",
        "node8.right = node11\n",
        "\n",
        "print(sumTree(root1)) #This should print 15"
      ],
      "metadata": {
        "id": "wV3ezsf_Kwli",
        "colab": {
          "base_uri": "https://localhost:8080/"
        },
        "outputId": "a00ad928-3be5-4675-964f-99a746f64339"
      },
      "execution_count": 5,
      "outputs": [
        {
          "output_type": "stream",
          "name": "stdout",
          "text": [
            "15\n"
          ]
        }
      ]
    },
    {
      "cell_type": "markdown",
      "source": [
        "Task 6"
      ],
      "metadata": {
        "id": "8GJeWub8Ki1X"
      }
    },
    {
      "cell_type": "code",
      "source": [],
      "metadata": {
        "id": "ajVXT-Vai6KJ"
      },
      "execution_count": null,
      "outputs": []
    },
    {
      "cell_type": "code",
      "source": [
        "def swap_child(root, level, M):\n",
        "  #To Do\n",
        "  if root!=None:\n",
        "    if level<M:\n",
        "      temp=root.left\n",
        "      root.left=root.right\n",
        "      root.right=temp\n",
        "      swap_child(root.left, level+1, M)\n",
        "      swap_child(root.right, level+1, M)\n",
        "\n",
        "  return root\n",
        "\n",
        "#Driver Code\n",
        "root=BTNode('A')\n",
        "#Write other nodes by yourself from the given tree of Doc File\n",
        "n1= BTNode(\"B\")\n",
        "n2=BTNode('C')\n",
        "n3=BTNode('D')\n",
        "n4=BTNode('E')\n",
        "n5=BTNode('F')\n",
        "n6=BTNode('G')\n",
        "n7=BTNode('H')\n",
        "n8=BTNode('I')\n",
        "n9=BTNode('J')\n",
        "\n",
        "root.left=n1\n",
        "root.right=n2\n",
        "n1.left= n3\n",
        "n1.right= n4\n",
        "n2.right=n5\n",
        "n3.left= n6\n",
        "n3.right= n7\n",
        "n4.left=n8\n",
        "n5.left=n9\n",
        "\n",
        "print('Given Tree Inorder Traversal: ', end = ' ')\n",
        "inorder(root)   #Given Tree Inorder Traversal: G D H B I E A C J F\n",
        "print()\n",
        "\n",
        "root2 = swap_child(root, 0, 2)\n",
        "print('Swapped Tree Inorder Traversal: ', end = ' ')\n",
        "inorder(root2)  #Swapped Tree Inorder Traversal: J F C A I E B G D H"
      ],
      "metadata": {
        "id": "0Rb_m6FRKktN",
        "colab": {
          "base_uri": "https://localhost:8080/"
        },
        "outputId": "fce5ebfa-0ae6-48c4-b948-04cf1a60fbf0"
      },
      "execution_count": null,
      "outputs": [
        {
          "output_type": "stream",
          "name": "stdout",
          "text": [
            "Given Tree Inorder Traversal:  G D H B I E A C J F \n",
            "Swapped Tree Inorder Traversal:  J F C A I E B G D H "
          ]
        }
      ]
    },
    {
      "cell_type": "markdown",
      "source": [
        "Task 7"
      ],
      "metadata": {
        "id": "VrHklDOEKlHf"
      }
    },
    {
      "cell_type": "code",
      "source": [],
      "metadata": {
        "id": "QljYfEKvi_F2"
      },
      "execution_count": null,
      "outputs": []
    },
    {
      "cell_type": "code",
      "source": [
        "def addition(node):\n",
        "  if node==None:\n",
        "    return 0\n",
        "  else:\n",
        "    return node.elem + addition(node.left) + addition(node.right)\n",
        "\n",
        "def subtract_summation(root):\n",
        "  #To Do\n",
        "  left_subTree= addition(root.left)\n",
        "  right_subTree= addition(root.right)\n",
        "\n",
        "  return left_subTree-right_subTree\n",
        "\n",
        "\n",
        "\n",
        "#Driver Code\n",
        "root=BTNode(71)\n",
        "#Write other nodes by yourself from the given tree of Doc File\n",
        "n1=BTNode(27)\n",
        "n2=BTNode(62)\n",
        "n3=BTNode(80)\n",
        "n4=BTNode(75)\n",
        "n5=BTNode(87)\n",
        "n6=BTNode(56)\n",
        "n7=BTNode(41)\n",
        "n8=BTNode(3)\n",
        "n9=BTNode(19)\n",
        "n10=BTNode(89)\n",
        "root.left=n1\n",
        "root.right=n2\n",
        "n1.left=n3\n",
        "n1.right=n4\n",
        "n3.left=n5\n",
        "n3.right= n6\n",
        "n2.left=n7\n",
        "n2.right=n8\n",
        "n8.left=n9\n",
        "n8.right=n10\n",
        "\n",
        "print(subtract_summation(root)) #This should print 111"
      ],
      "metadata": {
        "id": "dMXJ2qxkNn_F",
        "colab": {
          "base_uri": "https://localhost:8080/"
        },
        "outputId": "6537c28d-1dad-4a11-a7fa-0de8fc57f91f"
      },
      "execution_count": null,
      "outputs": [
        {
          "output_type": "stream",
          "name": "stdout",
          "text": [
            "111\n"
          ]
        }
      ]
    },
    {
      "cell_type": "markdown",
      "metadata": {
        "id": "SBD-0xoZP_ni"
      },
      "source": [
        "Bonus Task"
      ]
    },
    {
      "cell_type": "code",
      "source": [
        "def level_sum(root):\n",
        "  #To Do\n",
        "\n",
        "#DRIVER CODE\n",
        "root = BTNode(1)\n",
        "n2 = BTNode(2)\n",
        "n3 = BTNode(3)\n",
        "n4 = BTNode(4)\n",
        "n5 = BTNode(5)\n",
        "n6 = BTNode(6)\n",
        "n7 = BTNode(7)\n",
        "n8 = BTNode(8)\n",
        "root.left = n2\n",
        "root.right = n3\n",
        "\n",
        "n2.left = n4\n",
        "n3.left = n5\n",
        "n3.right = n6\n",
        "\n",
        "n5.left = n7\n",
        "n5.right = n8\n",
        "\n",
        "\n",
        "print(level_sum(root)) #This should print 4"
      ],
      "metadata": {
        "id": "U_LYhaRIxZCb"
      },
      "execution_count": null,
      "outputs": []
    }
  ],
  "metadata": {
    "colab": {
      "provenance": []
    },
    "kernelspec": {
      "display_name": "Python 3",
      "name": "python3"
    },
    "language_info": {
      "name": "python"
    }
  },
  "nbformat": 4,
  "nbformat_minor": 0
}